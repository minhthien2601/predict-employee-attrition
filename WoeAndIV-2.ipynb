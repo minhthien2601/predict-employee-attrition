{
 "cells": [
  {
   "cell_type": "code",
   "execution_count": 48,
   "metadata": {},
   "outputs": [],
   "source": [
    "import numpy as np\n",
    "import pandas as pd"
   ]
  },
  {
   "cell_type": "code",
   "execution_count": 49,
   "metadata": {},
   "outputs": [],
   "source": [
    "def calculate_woe_iv(data, target, var):\n",
    "    \"\"\"\n",
    "    Calculate the WOE and IV for a categorical variable.\n",
    "    \"\"\"\n",
    "    grouped = data.groupby(var, as_index=False)\n",
    "    agg = grouped.agg({target: ['count', 'sum']})\n",
    "    agg.columns = [var, 'total', 'bad']\n",
    "    agg['good'] = agg['total'] - agg['bad']\n",
    "    agg['good_pct'] = agg['good'] / agg['good'].sum()\n",
    "    agg['bad_pct'] = agg['bad'] / agg['bad'].sum()\n",
    "    agg['woe'] = np.log(agg['good_pct'] / agg['bad_pct'])\n",
    "    agg['iv'] = (agg['good_pct'] - agg['bad_pct']) * agg['woe']\n",
    "    return agg[[var, 'woe', 'iv']]\n"
   ]
  },
  {
   "cell_type": "code",
   "execution_count": 50,
   "metadata": {},
   "outputs": [],
   "source": [
    "data = pd.read_csv(\"hr_employee_attrition.csv\")"
   ]
  },
  {
   "cell_type": "code",
   "execution_count": 51,
   "metadata": {},
   "outputs": [],
   "source": [
    "# create a dictionary to map genders and attrition to numeric values\n",
    "gender_to_num = {\"Male\": 0, \"Female\": 1, \"Non-binary\": 2}\n",
    "attrition_to_num = {\"Yes\": 1, \"No\": 0}\n",
    "# convert the gender and Attrition column to numeric values\n",
    "data[\"Gender\"] = data[\"Gender\"].map(gender_to_num)\n",
    "data[\"Attrition\"] = data[\"Attrition\"].map(attrition_to_num)"
   ]
  },
  {
   "cell_type": "code",
   "execution_count": 52,
   "metadata": {},
   "outputs": [
    {
     "data": {
      "text/html": [
       "<div>\n",
       "<style scoped>\n",
       "    .dataframe tbody tr th:only-of-type {\n",
       "        vertical-align: middle;\n",
       "    }\n",
       "\n",
       "    .dataframe tbody tr th {\n",
       "        vertical-align: top;\n",
       "    }\n",
       "\n",
       "    .dataframe thead th {\n",
       "        text-align: right;\n",
       "    }\n",
       "</style>\n",
       "<table border=\"1\" class=\"dataframe\">\n",
       "  <thead>\n",
       "    <tr style=\"text-align: right;\">\n",
       "      <th></th>\n",
       "      <th>Gender</th>\n",
       "      <th>woe</th>\n",
       "      <th>iv</th>\n",
       "    </tr>\n",
       "  </thead>\n",
       "  <tbody>\n",
       "    <tr>\n",
       "      <th>0</th>\n",
       "      <td>0</td>\n",
       "      <td>-0.064000</td>\n",
       "      <td>0.002511</td>\n",
       "    </tr>\n",
       "    <tr>\n",
       "      <th>1</th>\n",
       "      <td>1</td>\n",
       "      <td>0.101553</td>\n",
       "      <td>0.003985</td>\n",
       "    </tr>\n",
       "  </tbody>\n",
       "</table>\n",
       "</div>"
      ],
      "text/plain": [
       "   Gender       woe        iv\n",
       "0       0 -0.064000  0.002511\n",
       "1       1  0.101553  0.003985"
      ]
     },
     "execution_count": 52,
     "metadata": {},
     "output_type": "execute_result"
    }
   ],
   "source": [
    "calculate_woe_iv(data,'Attrition', 'Gender')"
   ]
  }
 ],
 "metadata": {
  "kernelspec": {
   "display_name": "Python 3",
   "language": "python",
   "name": "python3"
  },
  "language_info": {
   "codemirror_mode": {
    "name": "ipython",
    "version": 3
   },
   "file_extension": ".py",
   "mimetype": "text/x-python",
   "name": "python",
   "nbconvert_exporter": "python",
   "pygments_lexer": "ipython3",
   "version": "3.10.0"
  },
  "orig_nbformat": 4
 },
 "nbformat": 4,
 "nbformat_minor": 2
}
