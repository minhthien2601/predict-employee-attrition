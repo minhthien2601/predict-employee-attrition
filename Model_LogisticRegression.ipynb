{
  "nbformat": 4,
  "nbformat_minor": 0,
  "metadata": {
    "colab": {
      "provenance": []
    },
    "kernelspec": {
      "name": "python3",
      "display_name": "Python 3"
    },
    "language_info": {
      "name": "python"
    }
  },
  "cells": [
    {
      "cell_type": "code",
      "source": [
        "from google.colab import files\n",
        "import pandas as pd\n",
        "from matplotlib import pyplot as plt \n",
        "import numpy as np\n",
        "from sklearn.model_selection import train_test_split\n",
        "from sklearn.linear_model import LogisticRegression\n",
        "from sklearn.metrics import classification_report\n",
        "from sklearn.preprocessing import MinMaxScaler\n",
        "import matplotlib.pyplot as plt\n"
      ],
      "metadata": {
        "id": "nD7hVycJ9T0Q"
      },
      "execution_count": null,
      "outputs": []
    },
    {
      "cell_type": "code",
      "source": [
        "uploaded = files.upload()"
      ],
      "metadata": {
        "id": "Rx5NtpDp9Wf4",
        "colab": {
          "base_uri": "https://localhost:8080/",
          "height": 73
        },
        "outputId": "aa385acc-2f03-4ffb-ba4c-721752864e80"
      },
      "execution_count": null,
      "outputs": [
        {
          "output_type": "display_data",
          "data": {
            "text/plain": [
              "<IPython.core.display.HTML object>"
            ],
            "text/html": [
              "\n",
              "     <input type=\"file\" id=\"files-9d066b04-87de-4639-94a3-a421cbd49a8d\" name=\"files[]\" multiple disabled\n",
              "        style=\"border:none\" />\n",
              "     <output id=\"result-9d066b04-87de-4639-94a3-a421cbd49a8d\">\n",
              "      Upload widget is only available when the cell has been executed in the\n",
              "      current browser session. Please rerun this cell to enable.\n",
              "      </output>\n",
              "      <script>// Copyright 2017 Google LLC\n",
              "//\n",
              "// Licensed under the Apache License, Version 2.0 (the \"License\");\n",
              "// you may not use this file except in compliance with the License.\n",
              "// You may obtain a copy of the License at\n",
              "//\n",
              "//      http://www.apache.org/licenses/LICENSE-2.0\n",
              "//\n",
              "// Unless required by applicable law or agreed to in writing, software\n",
              "// distributed under the License is distributed on an \"AS IS\" BASIS,\n",
              "// WITHOUT WARRANTIES OR CONDITIONS OF ANY KIND, either express or implied.\n",
              "// See the License for the specific language governing permissions and\n",
              "// limitations under the License.\n",
              "\n",
              "/**\n",
              " * @fileoverview Helpers for google.colab Python module.\n",
              " */\n",
              "(function(scope) {\n",
              "function span(text, styleAttributes = {}) {\n",
              "  const element = document.createElement('span');\n",
              "  element.textContent = text;\n",
              "  for (const key of Object.keys(styleAttributes)) {\n",
              "    element.style[key] = styleAttributes[key];\n",
              "  }\n",
              "  return element;\n",
              "}\n",
              "\n",
              "// Max number of bytes which will be uploaded at a time.\n",
              "const MAX_PAYLOAD_SIZE = 100 * 1024;\n",
              "\n",
              "function _uploadFiles(inputId, outputId) {\n",
              "  const steps = uploadFilesStep(inputId, outputId);\n",
              "  const outputElement = document.getElementById(outputId);\n",
              "  // Cache steps on the outputElement to make it available for the next call\n",
              "  // to uploadFilesContinue from Python.\n",
              "  outputElement.steps = steps;\n",
              "\n",
              "  return _uploadFilesContinue(outputId);\n",
              "}\n",
              "\n",
              "// This is roughly an async generator (not supported in the browser yet),\n",
              "// where there are multiple asynchronous steps and the Python side is going\n",
              "// to poll for completion of each step.\n",
              "// This uses a Promise to block the python side on completion of each step,\n",
              "// then passes the result of the previous step as the input to the next step.\n",
              "function _uploadFilesContinue(outputId) {\n",
              "  const outputElement = document.getElementById(outputId);\n",
              "  const steps = outputElement.steps;\n",
              "\n",
              "  const next = steps.next(outputElement.lastPromiseValue);\n",
              "  return Promise.resolve(next.value.promise).then((value) => {\n",
              "    // Cache the last promise value to make it available to the next\n",
              "    // step of the generator.\n",
              "    outputElement.lastPromiseValue = value;\n",
              "    return next.value.response;\n",
              "  });\n",
              "}\n",
              "\n",
              "/**\n",
              " * Generator function which is called between each async step of the upload\n",
              " * process.\n",
              " * @param {string} inputId Element ID of the input file picker element.\n",
              " * @param {string} outputId Element ID of the output display.\n",
              " * @return {!Iterable<!Object>} Iterable of next steps.\n",
              " */\n",
              "function* uploadFilesStep(inputId, outputId) {\n",
              "  const inputElement = document.getElementById(inputId);\n",
              "  inputElement.disabled = false;\n",
              "\n",
              "  const outputElement = document.getElementById(outputId);\n",
              "  outputElement.innerHTML = '';\n",
              "\n",
              "  const pickedPromise = new Promise((resolve) => {\n",
              "    inputElement.addEventListener('change', (e) => {\n",
              "      resolve(e.target.files);\n",
              "    });\n",
              "  });\n",
              "\n",
              "  const cancel = document.createElement('button');\n",
              "  inputElement.parentElement.appendChild(cancel);\n",
              "  cancel.textContent = 'Cancel upload';\n",
              "  const cancelPromise = new Promise((resolve) => {\n",
              "    cancel.onclick = () => {\n",
              "      resolve(null);\n",
              "    };\n",
              "  });\n",
              "\n",
              "  // Wait for the user to pick the files.\n",
              "  const files = yield {\n",
              "    promise: Promise.race([pickedPromise, cancelPromise]),\n",
              "    response: {\n",
              "      action: 'starting',\n",
              "    }\n",
              "  };\n",
              "\n",
              "  cancel.remove();\n",
              "\n",
              "  // Disable the input element since further picks are not allowed.\n",
              "  inputElement.disabled = true;\n",
              "\n",
              "  if (!files) {\n",
              "    return {\n",
              "      response: {\n",
              "        action: 'complete',\n",
              "      }\n",
              "    };\n",
              "  }\n",
              "\n",
              "  for (const file of files) {\n",
              "    const li = document.createElement('li');\n",
              "    li.append(span(file.name, {fontWeight: 'bold'}));\n",
              "    li.append(span(\n",
              "        `(${file.type || 'n/a'}) - ${file.size} bytes, ` +\n",
              "        `last modified: ${\n",
              "            file.lastModifiedDate ? file.lastModifiedDate.toLocaleDateString() :\n",
              "                                    'n/a'} - `));\n",
              "    const percent = span('0% done');\n",
              "    li.appendChild(percent);\n",
              "\n",
              "    outputElement.appendChild(li);\n",
              "\n",
              "    const fileDataPromise = new Promise((resolve) => {\n",
              "      const reader = new FileReader();\n",
              "      reader.onload = (e) => {\n",
              "        resolve(e.target.result);\n",
              "      };\n",
              "      reader.readAsArrayBuffer(file);\n",
              "    });\n",
              "    // Wait for the data to be ready.\n",
              "    let fileData = yield {\n",
              "      promise: fileDataPromise,\n",
              "      response: {\n",
              "        action: 'continue',\n",
              "      }\n",
              "    };\n",
              "\n",
              "    // Use a chunked sending to avoid message size limits. See b/62115660.\n",
              "    let position = 0;\n",
              "    do {\n",
              "      const length = Math.min(fileData.byteLength - position, MAX_PAYLOAD_SIZE);\n",
              "      const chunk = new Uint8Array(fileData, position, length);\n",
              "      position += length;\n",
              "\n",
              "      const base64 = btoa(String.fromCharCode.apply(null, chunk));\n",
              "      yield {\n",
              "        response: {\n",
              "          action: 'append',\n",
              "          file: file.name,\n",
              "          data: base64,\n",
              "        },\n",
              "      };\n",
              "\n",
              "      let percentDone = fileData.byteLength === 0 ?\n",
              "          100 :\n",
              "          Math.round((position / fileData.byteLength) * 100);\n",
              "      percent.textContent = `${percentDone}% done`;\n",
              "\n",
              "    } while (position < fileData.byteLength);\n",
              "  }\n",
              "\n",
              "  // All done.\n",
              "  yield {\n",
              "    response: {\n",
              "      action: 'complete',\n",
              "    }\n",
              "  };\n",
              "}\n",
              "\n",
              "scope.google = scope.google || {};\n",
              "scope.google.colab = scope.google.colab || {};\n",
              "scope.google.colab._files = {\n",
              "  _uploadFiles,\n",
              "  _uploadFilesContinue,\n",
              "};\n",
              "})(self);\n",
              "</script> "
            ]
          },
          "metadata": {}
        },
        {
          "output_type": "stream",
          "name": "stdout",
          "text": [
            "Saving ModelTest.csv to ModelTest.csv\n"
          ]
        }
      ]
    },
    {
      "cell_type": "code",
      "source": [
        "df1 = pd.read_csv('ModelTest.csv')\n",
        "df1.dtypes\n"
      ],
      "metadata": {
        "id": "uLkVSkNK9bZc",
        "colab": {
          "base_uri": "https://localhost:8080/"
        },
        "outputId": "7481cc46-afc7-4611-da36-d2facba2873e"
      },
      "execution_count": null,
      "outputs": [
        {
          "output_type": "execute_result",
          "data": {
            "text/plain": [
              "Age                          int64\n",
              "Attrition                   object\n",
              "BusinessTravel              object\n",
              "Department                  object\n",
              "DistanceFromHome             int64\n",
              "Environment_Satisfaction    object\n",
              "Job_Involvement             object\n",
              "JobLevel                    object\n",
              "Job_Satisfaction            object\n",
              "MaritalStatus               object\n",
              "MonthlyIncome                int64\n",
              "OverTime                    object\n",
              "RelationshipSatisfaction    object\n",
              "TotalWorkingYears            int64\n",
              "WorkLifeBalance             object\n",
              "YearsAtCompany               int64\n",
              "YearsInCurrentRole           int64\n",
              "YearsWithCurrManager         int64\n",
              "dtype: object"
            ]
          },
          "metadata": {},
          "execution_count": 49
        }
      ]
    },
    {
      "cell_type": "code",
      "source": [
        "def print_unique_col_value(df1):\n",
        "      for column in df1:\n",
        "        if df1[column].dtypes==\"object\":\n",
        "            print(f'{column}:{df1[column].unique()}')"
      ],
      "metadata": {
        "id": "N-ZWe9N3HtJu"
      },
      "execution_count": null,
      "outputs": []
    },
    {
      "cell_type": "code",
      "source": [
        "print_unique_col_value(df1)"
      ],
      "metadata": {
        "id": "u1fYyeplIOx9",
        "colab": {
          "base_uri": "https://localhost:8080/"
        },
        "outputId": "94d32c03-2ea6-497d-a8c7-afb63aa82f99"
      },
      "execution_count": null,
      "outputs": [
        {
          "output_type": "stream",
          "name": "stdout",
          "text": [
            "BusinessTravel:['Travel_Rarely' 'Travel_Frequently' 'Non-Travel']\n",
            "Department:['Sales' 'Research & Development' 'Human Resources']\n",
            "Environment_Satisfaction:['Medium' 'High' 'Very High' 'Low']\n",
            "Job_Involvement:['High' 'Medium' 'Very High' 'Low']\n",
            "JobLevel:['Intermediate or experienced (senior staff)' 'Entry-level'\n",
            " 'First-level management' 'Middle management'\n",
            " 'Executive or senior management']\n",
            "Job_Satisfaction:['Very High' 'Medium' 'High' 'Low']\n",
            "MaritalStatus:['Single' 'Married' 'Divorced']\n",
            "RelationshipSatisfaction:['Low' 'Very High' 'Medium' 'High']\n",
            "WorkLifeBalance:['Bad' 'Better' 'Good' 'Best']\n"
          ]
        }
      ]
    },
    {
      "cell_type": "code",
      "source": [
        "yes_no_columns=['OverTime','Attrition']\n",
        "for col in yes_no_columns:\n",
        "    df1[col].replace({'Yes':1, 'No':0},inplace=True)"
      ],
      "metadata": {
        "id": "KZsy425OJctl"
      },
      "execution_count": null,
      "outputs": []
    },
    {
      "cell_type": "code",
      "source": [
        "for col in df1:\n",
        "  print(f'{col}:{df1[col].unique()}')"
      ],
      "metadata": {
        "id": "qStNF94wKLH1",
        "colab": {
          "base_uri": "https://localhost:8080/"
        },
        "outputId": "423280c2-31bb-4f99-d561-e394cb02b069"
      },
      "execution_count": null,
      "outputs": [
        {
          "output_type": "stream",
          "name": "stdout",
          "text": [
            "Age:[41 49 37 33 27 32 59 30 38 36 35 29 31 34 28 22 53 24 21 42 44 46 39 43\n",
            " 50 26 48 55 45 56 23 51 40 54 58 20 25 19 57 52 47 18 60]\n",
            "Attrition:[1 0]\n",
            "BusinessTravel:['Travel_Rarely' 'Travel_Frequently' 'Non-Travel']\n",
            "Department:['Sales' 'Research & Development' 'Human Resources']\n",
            "DistanceFromHome:[ 1  8  2  3 24 23 27 16 15 26 19 21  5 11  9  7  6 10  4 25 12 18 29 22\n",
            " 14 20 28 17 13]\n",
            "Environment_Satisfaction:['Medium' 'High' 'Very High' 'Low']\n",
            "Job_Involvement:['High' 'Medium' 'Very High' 'Low']\n",
            "JobLevel:['Intermediate or experienced (senior staff)' 'Entry-level'\n",
            " 'First-level management' 'Middle management'\n",
            " 'Executive or senior management']\n",
            "Job_Satisfaction:['Very High' 'Medium' 'High' 'Low']\n",
            "MaritalStatus:['Single' 'Married' 'Divorced']\n",
            "MonthlyIncome:[5993 5130 2090 ... 9991 5390 4404]\n",
            "OverTime:[1 0]\n",
            "RelationshipSatisfaction:['Low' 'Very High' 'Medium' 'High']\n",
            "TotalWorkingYears:[ 8 10  7  6 12  1 17  5  3 31 13  0 26 24 22  9 19  2 23 14 15  4 29 28\n",
            " 21 25 20 11 16 37 38 30 40 18 36 34 32 33 35 27]\n",
            "WorkLifeBalance:['Bad' 'Better' 'Good' 'Best']\n",
            "YearsAtCompany:[ 6 10  0  8  2  7  1  9  5  4 25  3 12 14 22 15 27 21 17 11 13 37 16 20\n",
            " 40 24 33 19 36 18 29 31 32 34 26 30 23]\n",
            "YearsInCurrentRole:[ 4  7  0  2  5  9  8  3  6 13  1 15 14 16 11 10 12 18 17]\n",
            "YearsWithCurrManager:[ 5  7  0  2  6  8  3 11 17  1  4 12  9 10 15 13 16 14]\n"
          ]
        }
      ]
    },
    {
      "cell_type": "code",
      "source": [
        "df2=pd.get_dummies(\n",
        "    data=df1,columns=[\n",
        "        'MaritalStatus','JobLevel',\n",
        "        'Department','BusinessTravel',\n",
        "        'WorkLifeBalance','Environment_Satisfaction',\n",
        "        'Job_Involvement','Job_Satisfaction',\n",
        "        'RelationshipSatisfaction'])\n",
        "\n",
        "df2.columns\n"
      ],
      "metadata": {
        "id": "_V43LOe6K6vF"
      },
      "execution_count": null,
      "outputs": []
    },
    {
      "cell_type": "code",
      "source": [
        "for col in df2: \n",
        "  print(f'{col}:{df2[col].unique()}')\n",
        "df2"
      ],
      "metadata": {
        "id": "gLl4-FxVN9SV"
      },
      "execution_count": null,
      "outputs": []
    },
    {
      "cell_type": "code",
      "source": [
        "corr = df2.corr()\n",
        "corr.style.background_gradient(cmap='coolwarm').set_precision(2)"
      ],
      "metadata": {
        "id": "Yt2RwVNEfD8J"
      },
      "execution_count": null,
      "outputs": []
    },
    {
      "cell_type": "code",
      "source": [
        "cols_to_scale=['Age','DistanceFromHome','MonthlyIncome',\n",
        "               'TotalWorkingYears','YearsAtCompany',\n",
        "               'YearsInCurrentRole','YearsWithCurrManager']\n",
        "from sklearn.preprocessing import MinMaxScaler\n",
        "scaler=MinMaxScaler()\n",
        "df2[cols_to_scale]=scaler.fit_transform(df2[cols_to_scale])\n",
        "df2"
      ],
      "metadata": {
        "id": "73geZeXLNG-E"
      },
      "execution_count": null,
      "outputs": []
    },
    {
      "cell_type": "code",
      "source": [
        "for col in df2: \n",
        "  print(f'{col}:{df2[col].unique()}')\n",
        "df2"
      ],
      "metadata": {
        "id": "NpM5AENujgUg"
      },
      "execution_count": null,
      "outputs": []
    },
    {
      "cell_type": "code",
      "source": [
        "X=df2.drop('Attrition',axis='columns')\n",
        "y=testLabels=df2.Attrition.astype(np.float32)\n",
        "from imblearn.over_sampling import SMOTE, SVMSMOTE\n",
        "sm = SMOTE()\n",
        "X_train_resample, y_train_resample = sm.fit_resample(X,y)\n",
        "X_train,X_test,y_train,y_test=train_test_split(X_train_resample, y_train_resample,test_size=0.2,random_state=70)\n",
        "\n",
        "\n",
        "model=LogisticRegression()\n",
        "model.fit(X_train,y_train)\n",
        "acc=model.score(X_test,y_test)\n",
        "print(\"Accuracy\",acc,\"\\n\")\n",
        "y_pred=model.predict(X_test)\n",
        "print(\"Preds\",y_pred,\"\\n\")\n",
        "cl_rep=classification_report(y_test,y_pred) \n",
        "print(cl_rep)\n"
      ],
      "metadata": {
        "id": "EZbwnp_YW8BW",
        "colab": {
          "base_uri": "https://localhost:8080/"
        },
        "outputId": "b1038a54-017a-4d86-d625-60d2b7ac0c84"
      },
      "execution_count": null,
      "outputs": [
        {
          "output_type": "stream",
          "name": "stdout",
          "text": [
            "Accuracy 0.9190283400809717 \n",
            "\n",
            "Preds [1. 1. 1. 0. 1. 1. 1. 0. 1. 0. 0. 1. 0. 0. 0. 0. 1. 1. 0. 0. 1. 1. 0. 0.\n",
            " 0. 0. 0. 1. 1. 1. 0. 1. 0. 1. 0. 0. 0. 0. 0. 1. 0. 1. 0. 0. 0. 1. 0. 1.\n",
            " 0. 0. 1. 0. 1. 0. 1. 1. 0. 0. 0. 0. 1. 0. 0. 1. 0. 1. 0. 0. 0. 1. 0. 0.\n",
            " 0. 0. 1. 0. 0. 1. 0. 1. 0. 1. 1. 0. 0. 0. 1. 1. 1. 1. 0. 0. 0. 0. 1. 0.\n",
            " 0. 0. 0. 0. 1. 0. 1. 0. 1. 0. 0. 1. 1. 0. 0. 0. 1. 1. 0. 1. 0. 1. 0. 1.\n",
            " 0. 1. 0. 1. 0. 0. 1. 0. 1. 0. 0. 0. 1. 0. 0. 1. 1. 0. 0. 0. 1. 1. 0. 0.\n",
            " 1. 1. 0. 0. 0. 1. 1. 0. 1. 0. 1. 1. 0. 0. 0. 1. 0. 0. 1. 0. 0. 1. 0. 0.\n",
            " 1. 0. 0. 1. 0. 1. 1. 1. 0. 1. 0. 0. 0. 0. 0. 1. 0. 0. 1. 0. 1. 1. 0. 0.\n",
            " 0. 1. 1. 0. 1. 1. 1. 1. 0. 1. 0. 1. 0. 0. 0. 1. 1. 0. 0. 0. 0. 1. 1. 0.\n",
            " 1. 1. 0. 1. 1. 0. 1. 0. 1. 1. 1. 1. 0. 1. 0. 0. 0. 0. 0. 0. 1. 0. 0. 0.\n",
            " 0. 1. 0. 1. 0. 1. 1. 1. 1. 0. 1. 1. 0. 0. 0. 1. 1. 1. 1. 0. 1. 1. 0. 0.\n",
            " 0. 0. 1. 0. 0. 1. 0. 1. 1. 0. 0. 0. 0. 0. 0. 1. 1. 1. 0. 1. 0. 0. 0. 1.\n",
            " 1. 0. 1. 0. 0. 0. 1. 1. 1. 1. 1. 0. 1. 0. 1. 0. 1. 0. 0. 0. 0. 0. 0. 0.\n",
            " 0. 0. 1. 0. 1. 1. 1. 1. 0. 1. 1. 1. 0. 1. 1. 1. 0. 0. 0. 1. 1. 0. 1. 0.\n",
            " 1. 0. 0. 1. 1. 1. 1. 1. 0. 0. 1. 0. 1. 1. 1. 1. 0. 0. 0. 0. 0. 0. 1. 0.\n",
            " 1. 0. 1. 0. 0. 1. 1. 0. 1. 0. 1. 0. 0. 1. 0. 1. 1. 1. 1. 1. 1. 0. 1. 0.\n",
            " 0. 1. 1. 1. 0. 0. 0. 0. 0. 0. 0. 0. 1. 1. 0. 0. 0. 0. 0. 1. 1. 1. 0. 1.\n",
            " 1. 0. 1. 1. 0. 0. 0. 0. 1. 1. 1. 0. 1. 1. 1. 1. 0. 0. 0. 0. 1. 0. 0. 1.\n",
            " 1. 0. 0. 1. 1. 0. 1. 0. 1. 1. 0. 1. 0. 1. 1. 1. 1. 1. 1. 1. 0. 0. 0. 0.\n",
            " 0. 0. 0. 1. 1. 1. 0. 1. 0. 0. 1. 0. 1. 0. 1. 1. 0. 0. 0. 0. 1. 0. 0. 1.\n",
            " 1. 0. 1. 1. 0. 0. 1. 0. 1. 0. 1. 1. 0. 1.] \n",
            "\n",
            "              precision    recall  f1-score   support\n",
            "\n",
            "         0.0       0.88      0.97      0.92       243\n",
            "         1.0       0.96      0.87      0.92       251\n",
            "\n",
            "    accuracy                           0.92       494\n",
            "   macro avg       0.92      0.92      0.92       494\n",
            "weighted avg       0.92      0.92      0.92       494\n",
            "\n"
          ]
        }
      ]
    },
    {
      "cell_type": "code",
      "source": [
        "model.intercept_\n"
      ],
      "metadata": {
        "colab": {
          "base_uri": "https://localhost:8080/"
        },
        "id": "-ElLJ3m6gkmQ",
        "outputId": "9f50c552-0c2b-47fc-9f6d-464daf9903ad"
      },
      "execution_count": null,
      "outputs": [
        {
          "output_type": "execute_result",
          "data": {
            "text/plain": [
              "array([16.23933784])"
            ]
          },
          "metadata": {},
          "execution_count": 43
        }
      ]
    },
    {
      "cell_type": "code",
      "source": [
        "model.coef_"
      ],
      "metadata": {
        "colab": {
          "base_uri": "https://localhost:8080/"
        },
        "id": "GnzwxjHJj3LX",
        "outputId": "547637a1-d94a-4448-eed5-24103cc13fe2"
      },
      "execution_count": null,
      "outputs": [
        {
          "output_type": "execute_result",
          "data": {
            "text/plain": [
              "array([[-0.7482178 ,  0.66018137, -1.10940806,  1.33762384, -0.17559184,\n",
              "         1.22144384, -1.12331773, -1.01746384, -2.67427847, -2.24195229,\n",
              "        -1.32842794, -1.05084404, -1.0135989 , -1.32982526, -2.38360717,\n",
              "        -2.23772682, -1.46023095, -2.14368201, -1.25132983, -2.3760345 ,\n",
              "        -1.03003554, -1.4743937 , -1.26277859, -2.2489297 , -2.40607259,\n",
              "        -2.19889462, -2.33530066, -1.54366346, -2.34324903, -2.39291195,\n",
              "        -2.03115126, -0.68808292, -1.7659241 , -2.48954835, -2.20229476,\n",
              "        -1.64445071, -2.22255368, -2.84353742, -2.16574177, -1.63935684,\n",
              "        -2.23026843, -2.12448453]])"
            ]
          },
          "metadata": {},
          "execution_count": 44
        }
      ]
    },
    {
      "cell_type": "code",
      "source": [
        "from imblearn.over_sampling._smote.base import math\n",
        "p_point=1/(1+math.exp(-(-0.34721)))\n"
      ],
      "metadata": {
        "id": "9mgJtDOQUcFs"
      },
      "execution_count": null,
      "outputs": []
    },
    {
      "cell_type": "code",
      "source": [
        "p_point"
      ],
      "metadata": {
        "colab": {
          "base_uri": "https://localhost:8080/"
        },
        "id": "L0J-aNdeU0iF",
        "outputId": "8d020605-5f46-471b-d1a4-05a4632ed963"
      },
      "execution_count": null,
      "outputs": [
        {
          "output_type": "execute_result",
          "data": {
            "text/plain": [
              "0.4140591519166385"
            ]
          },
          "metadata": {},
          "execution_count": 15
        }
      ]
    }
  ]
}